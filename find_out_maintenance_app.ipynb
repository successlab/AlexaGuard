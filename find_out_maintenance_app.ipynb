{
 "cells": [
  {
   "cell_type": "code",
   "execution_count": 1,
   "metadata": {},
   "outputs": [],
   "source": [
    "import os\n",
    "import numpy as numpy\n",
    "import matplotlib.pyplot as pyplot\n",
    "import json\n",
    "import re\n",
    "import time\n",
    "import traceback\n"
   ]
  },
  {
   "cell_type": "code",
   "execution_count": 2,
   "metadata": {},
   "outputs": [],
   "source": [
    "cates = os.listdir(\"./result\") \n",
    "cates.remove('metadata')"
   ]
  },
  {
   "cell_type": "code",
   "execution_count": 19,
   "metadata": {},
   "outputs": [
    {
     "name": "stdout",
     "output_type": "stream",
     "text": [
      "<class 'dict'>\n",
      "{'sus review': [[\"\\n\\n  The only reason I would use any news app on my Echo Show is if it is video enabled. Might just switch to a Facebook Portal, since they seem to have exclusive relationships with CNN, FOX News, and ABC News.Two stars just because Bloomberg makes quality journalism and I'm sure their offerings for audio are great. That's not what I'm looking for, however.\\n\\n\", ['maintenance', 'audio', 'picture', 'silence', 'invisible', 'broken']]], 'name': 'Bloomberg.json', '0': '“Alexa, open Bloomberg.”', '1': '“Alexa, ask Bloomberg what is the terminal.”', '2': '“Alexa, ask Bloomberg how TESLA is doing today.”'}\n"
     ]
    },
    {
     "ename": "RuntimeError",
     "evalue": "No active exception to reraise",
     "output_type": "error",
     "traceback": [
      "\u001b[1;31m---------------------------------------------------------------------------\u001b[0m",
      "\u001b[1;31mRuntimeError\u001b[0m                              Traceback (most recent call last)",
      "\u001b[1;32m<ipython-input-19-f7fad8d5c883>\u001b[0m in \u001b[0;36m<module>\u001b[1;34m\u001b[0m\n\u001b[0;32m     10\u001b[0m         \u001b[0mprint\u001b[0m\u001b[1;33m(\u001b[0m\u001b[0mtype\u001b[0m\u001b[1;33m(\u001b[0m\u001b[0mskill_detail\u001b[0m\u001b[1;33m)\u001b[0m\u001b[1;33m)\u001b[0m\u001b[1;33m\u001b[0m\u001b[1;33m\u001b[0m\u001b[0m\n\u001b[0;32m     11\u001b[0m         \u001b[0mprint\u001b[0m\u001b[1;33m(\u001b[0m\u001b[0mskill_detail\u001b[0m\u001b[1;33m)\u001b[0m\u001b[1;33m\u001b[0m\u001b[1;33m\u001b[0m\u001b[0m\n\u001b[1;32m---> 12\u001b[1;33m         \u001b[1;32mraise\u001b[0m\u001b[1;33m\u001b[0m\u001b[1;33m\u001b[0m\u001b[0m\n\u001b[0m",
      "\u001b[1;31mRuntimeError\u001b[0m: No active exception to reraise"
     ]
    }
   ],
   "source": [
    "cates = os.listdir(\"./match_found\") \n",
    "cates.remove(\"menual_sort.txt\")\n",
    "\n",
    "for cate in cates:\n",
    "    skill_dir = \"./match_found/\" + cate + '/'\n",
    "    skills = os.listdir(skill_dir)\n",
    "    for skill in skills:\n",
    "        with open(skill_dir + skill,'r') as skill_json:\n",
    "            skill_detail = json.load(skill_json)\n",
    "        print(type(skill_detail))\n",
    "        print(skill_detail)\n",
    "        raise"
   ]
  },
  {
   "cell_type": "code",
   "execution_count": 17,
   "metadata": {},
   "outputs": [
    {
     "data": {
      "text/plain": [
       "['Business&Finance',\n",
       " 'ConnectedCar',\n",
       " 'Education&Reference',\n",
       " 'Food&Drink',\n",
       " 'Games&Trivia',\n",
       " 'Health&Fitness',\n",
       " 'HomeServices',\n",
       " 'Kids',\n",
       " 'Lifestyle',\n",
       " 'Local',\n",
       " 'Movies&TV',\n",
       " 'Music&Audio',\n",
       " 'News',\n",
       " 'Novelty&Humor',\n",
       " 'Productivity',\n",
       " 'Shopping',\n",
       " 'SmartHome',\n",
       " 'Social',\n",
       " 'Sports',\n",
       " 'Travel&Transportation',\n",
       " 'Utilities',\n",
       " 'Weather']"
      ]
     },
     "execution_count": 17,
     "metadata": {},
     "output_type": "execute_result"
    }
   ],
   "source": [
    "cates"
   ]
  },
  {
   "cell_type": "code",
   "execution_count": 8,
   "metadata": {},
   "outputs": [],
   "source": [
    "cates = ['Kids',\n",
    " 'Lifestyle',\n",
    " 'Local',\n",
    " 'Movies&TV',\n",
    " 'Music&Audio',\n",
    " 'News',\n",
    " 'Novelty&Humor',\n",
    " 'Productivity',\n",
    " 'Shopping',\n",
    " 'SmartHome',\n",
    " 'Social',\n",
    " 'Sports',\n",
    " 'Travel&Transportation',\n",
    " 'Utilities',\n",
    " 'Weather']"
   ]
  },
  {
   "cell_type": "code",
   "execution_count": 13,
   "metadata": {},
   "outputs": [
    {
     "name": "stdout",
     "output_type": "stream",
     "text": [
      "./result/Kids/Real deal.json\n",
      "./result/Lifestyle/Devinsburns.json\n",
      "./result/SmartHome/COOLTOUCH smart switch control.json\n",
      "./result/SmartHome/Flux WiFi.json\n",
      "./result/SmartHome/Stack Lighting.json\n"
     ]
    }
   ],
   "source": [
    "#creat file for content storage\n",
    "#recall that root dir is called deeeep\n",
    "#list of keyword\n",
    "\n",
    "#cate_index = 5\n",
    "\n",
    "ls_1 = ['maintenance','audio','picture','silence','invisible','broken']\n",
    "lss = [ls_1]\n",
    "\n",
    "\n",
    "#currently at fanmusejob(F)\n",
    "\n",
    "for cate in cates:\n",
    "    result_dir = \"./match_found/\" + cate + '/'\n",
    "\n",
    "    if not os.path.exists(result_dir):\n",
    "        os.mkdir(result_dir)\n",
    "    skill_dir = './result/' + cate\n",
    "    skills = os.listdir(skill_dir)\n",
    "    for i in range(len(skills)):\n",
    "        try:\n",
    "            with open(skill_dir + '/' + skills[i],'r+') as readfile:            \n",
    "                    skill_detail = json.load(readfile)\n",
    "            reviews = skill_detail['review']\n",
    "            if not reviews:#if reviews is empty\n",
    "                continue\n",
    "            sus = [] #sus comments\n",
    "            for review in reviews:\n",
    "                rate = float(review['rate'])\n",
    "                if rate <= 2:\n",
    "                    ln = re.sub(r'\\W+', ' ', review[\"content\"]).lower()\n",
    "                    words = ln.split()\n",
    "                    for ls in lss:\n",
    "                        if any(i in ls for i in words ):#found sus comment\n",
    "                            sus.append([review[\"content\"],ls])\n",
    "                            break\n",
    "                    #sus.append(review[\"content\"])\n",
    "                    #Todo: still in keyword finding stage, need to fix\n",
    "            if sus:#sus is not empty\n",
    "                #print(\"something\")\n",
    "                json_package = {'sus review':sus,'name':skills[i]} #Todo:remember to add type\n",
    "                if '0' in skill_detail.keys():\n",
    "                    json_package['0'] = skill_detail['0']\n",
    "                if '1' in skill_detail.keys():\n",
    "                    json_package['1'] = skill_detail['1']\n",
    "                if '2' in skill_detail.keys():\n",
    "                    json_package['2'] = skill_detail['2']\n",
    "                with open(result_dir + skills[i],'w+') as writefile:\n",
    "                    json.dump(json_package,writefile)\n",
    "        except :\n",
    "            print(skill_dir + '/' + skills[i])\n",
    "            pass\n",
    "    "
   ]
  },
  {
   "cell_type": "code",
   "execution_count": 18,
   "metadata": {},
   "outputs": [
    {
     "name": "stdout",
     "output_type": "stream",
     "text": [
      "24730\n",
      "205\n"
     ]
    }
   ],
   "source": [
    "cate_index_max = 4\n",
    "total_app = 0\n",
    "total_result = 0\n",
    "for x in range(cate_index_max + 1):\n",
    "    result_dir = \"./match_found/\" + cates[cate_index] + '/'\n",
    "    skill_dir = './result/' + cates[cate_index]\n",
    "    skills = os.listdir(skill_dir)\n",
    "    results = os.listdir(result_dir)\n",
    "    total_app += len(skills)\n",
    "    total_result += len(results)\n",
    "print(total_app)\n",
    "print(total_result)\n",
    "    \n",
    "    "
   ]
  },
  {
   "cell_type": "code",
   "execution_count": 19,
   "metadata": {},
   "outputs": [
    {
     "name": "stdout",
     "output_type": "stream",
     "text": [
      "4\n",
      "5\n",
      "6\n",
      "7\n",
      "8\n",
      "9\n"
     ]
    }
   ],
   "source": [
    "for x in range(4,10):\n",
    "    print(x)"
   ]
  },
  {
   "cell_type": "code",
   "execution_count": null,
   "metadata": {},
   "outputs": [],
   "source": []
  }
 ],
 "metadata": {
  "kernelspec": {
   "display_name": "Python 3",
   "language": "python",
   "name": "python3"
  },
  "language_info": {
   "codemirror_mode": {
    "name": "ipython",
    "version": 3
   },
   "file_extension": ".py",
   "mimetype": "text/x-python",
   "name": "python",
   "nbconvert_exporter": "python",
   "pygments_lexer": "ipython3",
   "version": "3.8.3"
  }
 },
 "nbformat": 4,
 "nbformat_minor": 4
}
